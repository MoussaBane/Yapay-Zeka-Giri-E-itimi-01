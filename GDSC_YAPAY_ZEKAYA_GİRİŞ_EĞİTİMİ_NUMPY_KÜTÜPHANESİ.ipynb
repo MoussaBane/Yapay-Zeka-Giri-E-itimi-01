{
  "nbformat": 4,
  "nbformat_minor": 0,
  "metadata": {
    "colab": {
      "name": "GDSC YAPAY ZEKAYA GİRİŞ EĞİTİMİ NUMPY KÜTÜPHANESİ",
      "provenance": [],
      "collapsed_sections": [],
      "toc_visible": true,
      "authorship_tag": "ABX9TyPMyIF4g7QWohhYdW2TjUlI",
      "include_colab_link": true
    },
    "kernelspec": {
      "name": "python3",
      "display_name": "Python 3"
    },
    "language_info": {
      "name": "python"
    }
  },
  "cells": [
    {
      "cell_type": "markdown",
      "metadata": {
        "id": "view-in-github",
        "colab_type": "text"
      },
      "source": [
        "<a href=\"https://colab.research.google.com/github/ceydatekin/NumpyPandasKutuphaneleri/blob/main/GDSC_YAPAY_ZEKAYA_G%C4%B0R%C4%B0%C5%9E_E%C4%9E%C4%B0T%C4%B0M%C4%B0_NUMPY_K%C3%9CT%C3%9CPHANES%C4%B0.ipynb\" target=\"_parent\"><img src=\"https://colab.research.google.com/assets/colab-badge.svg\" alt=\"Open In Colab\"/></a>"
      ]
    },
    {
      "cell_type": "markdown",
      "source": [
        "#**VERİ MANİPÜLASYONU**"
      ],
      "metadata": {
        "id": "NECizF6gsF0w"
      }
    },
    {
      "cell_type": "markdown",
      "source": [
        "> Veri işleme, veri biliminin ayrılmaz bir yönüdür. Verilerin, makinelerin okuyabilmesi için yapılandırılması gerekir. Ancak, insanların onu kullanması için manipülasyona ihtiyacı var. Her geçen gün kullanılan veri miktarı ve depolama arttıkça, veri manipülasyonu her zamankinden daha kritik hale geliyor.\n",
        "\n",
        "> Verileri manipüle farklı pek çok dilde edebilirsiniz ama aslında işin ana yapısını aynıdır. Sadece yazımsal değişikliğe uğrar.\n",
        ">Biz **Python**'ın kütüphanelerinden olan *NumPy* ve *Pandas*'ı kullanacağız.\n",
        "\n",
        "\n"
      ],
      "metadata": {
        "id": "qDHbRg0csVAo"
      }
    },
    {
      "cell_type": "markdown",
      "source": [
        "## NUMPY KÜTÜPHANESi"
      ],
      "metadata": {
        "id": "pUMFz6JStbuq"
      }
    },
    {
      "cell_type": "markdown",
      "source": [
        "### Neden Numpy Kullanmalıyız"
      ],
      "metadata": {
        "id": "QoO4AoHAu9JP"
      }
    },
    {
      "cell_type": "code",
      "source": [
        "array1 = [1,2,3,4]\n",
        "array2 = [2,3,4,5]"
      ],
      "metadata": {
        "id": "wUjq_9IPsTke"
      },
      "execution_count": null,
      "outputs": []
    },
    {
      "cell_type": "code",
      "source": [
        "#iki listemizi çarpmak için karışık bir ifade kullanırız asağidaki gibi\n",
        "carpım = []\n",
        "\n",
        "for i in range (0,len(array1)):\n",
        "    carpım.append(array1[i]*array2[i])\n",
        "\n",
        "print(carpım)"
      ],
      "metadata": {
        "colab": {
          "base_uri": "https://localhost:8080/"
        },
        "id": "l4agPavPtsHe",
        "outputId": "31616d4f-0c1d-4c58-c0c4-af8b5728518e"
      },
      "execution_count": null,
      "outputs": [
        {
          "output_type": "stream",
          "name": "stdout",
          "text": [
            "[2, 6, 12, 20]\n"
          ]
        }
      ]
    },
    {
      "cell_type": "code",
      "source": [
        "#NumPy kütüphanesini programımıza cağırmadan kullanamayız.\n",
        "#Aşağıdaki ifade de NumPy kütüphanesini np kısayolu ile programımıza dahil etmiş olduk.\n",
        "import numpy as np"
      ],
      "metadata": {
        "id": "jBWSjpSRuFhc"
      },
      "execution_count": null,
      "outputs": []
    },
    {
      "cell_type": "code",
      "source": [
        "#numpy arrayleri iki liste çarpımını kolaylaştırmak mümkündür asağıda inceleyiniz:\n",
        "#önce iki np kısayolu ile numpy arrayi oluşturduk\n",
        "arr1 = np.array([1,2,3,4])\n",
        "arr2 = np.array([2,3,4,5])"
      ],
      "metadata": {
        "id": "jEXkzjcTujhc"
      },
      "execution_count": null,
      "outputs": []
    },
    {
      "cell_type": "code",
      "source": [
        "#oluşturduğumuz arrayleri çarpmak için aşağıdaki işlem yeterlidir.\n",
        "arr1*arr2"
      ],
      "metadata": {
        "colab": {
          "base_uri": "https://localhost:8080/"
        },
        "id": "SOs2yxTKuzpz",
        "outputId": "cfa11d52-e5d7-4de7-cfcf-9710329e6b8a"
      },
      "execution_count": null,
      "outputs": [
        {
          "output_type": "execute_result",
          "data": {
            "text/plain": [
              "array([ 2,  6, 12, 20])"
            ]
          },
          "metadata": {},
          "execution_count": 35
        }
      ]
    },
    {
      "cell_type": "markdown",
      "source": [
        "### NumPy Arrayi Oluşturma İşlemleri"
      ],
      "metadata": {
        "id": "3zrXQp8NvPqx"
      }
    },
    {
      "cell_type": "code",
      "source": [
        "arr = np.array([1,2,3,4,6])\n",
        "print(type(arr))\n",
        "print(arr)"
      ],
      "metadata": {
        "colab": {
          "base_uri": "https://localhost:8080/"
        },
        "id": "EJyzCxT_u5pz",
        "outputId": "cf1226ed-e56d-4c0d-c49a-269873b62fc0"
      },
      "execution_count": null,
      "outputs": [
        {
          "output_type": "stream",
          "name": "stdout",
          "text": [
            "<class 'numpy.ndarray'>\n",
            "[1 2 3 4 6]\n"
          ]
        }
      ]
    },
    {
      "cell_type": "markdown",
      "source": [
        "\n",
        "> NumPy sabit tip baskında bir kütüphanedir.\n"
      ],
      "metadata": {
        "id": "VIMcEB1HwDO6"
      }
    },
    {
      "cell_type": "code",
      "source": [
        "np.array([3.14, 4, 2, 13]) #Bir tanesi bile float tipine dönmüş olsa bile hepsi floata dönüşür."
      ],
      "metadata": {
        "colab": {
          "base_uri": "https://localhost:8080/"
        },
        "id": "CE524Y4Evcxc",
        "outputId": "9425d962-4abd-4265-b81f-ea11d69e38e8"
      },
      "execution_count": null,
      "outputs": [
        {
          "output_type": "execute_result",
          "data": {
            "text/plain": [
              "array([ 3.14,  4.  ,  2.  , 13.  ])"
            ]
          },
          "metadata": {},
          "execution_count": 36
        }
      ]
    },
    {
      "cell_type": "code",
      "source": [
        "np.array([3.14, 4, 2, 13], dtype = \"int\") #dtype o arrayin türünü belirlememizi sağlar."
      ],
      "metadata": {
        "colab": {
          "base_uri": "https://localhost:8080/"
        },
        "id": "LN5byNRjwQrj",
        "outputId": "12b4eb3b-b74f-4a4c-95b4-886cf770c8b9"
      },
      "execution_count": null,
      "outputs": [
        {
          "output_type": "execute_result",
          "data": {
            "text/plain": [
              "array([ 3,  4,  2, 13])"
            ]
          },
          "metadata": {},
          "execution_count": 37
        }
      ]
    },
    {
      "cell_type": "code",
      "source": [
        "#Verilen boyut kadar 0 elemanlı NumPy Arrayi oluşturur.\n",
        "#Ve sayılarımızı \"Float\" tipinde oluşturur. \n",
        "arr1 = np.zeros(8)\n",
        "arr2 = np.zeros((2,8), dtype = int)\n",
        "print(\"Birinci Array\")\n",
        "print(arr1)\n",
        "print(\"İkinci Array\")\n",
        "print(arr2)"
      ],
      "metadata": {
        "colab": {
          "base_uri": "https://localhost:8080/"
        },
        "id": "2NvQLLRvwf5L",
        "outputId": "dfa3f6d8-9d29-481a-f9f6-064bc08254f1"
      },
      "execution_count": null,
      "outputs": [
        {
          "output_type": "stream",
          "name": "stdout",
          "text": [
            "Birinci Array\n",
            "[0. 0. 0. 0. 0. 0. 0. 0.]\n",
            "İkinci Array\n",
            "[[0 0 0 0 0 0 0 0]\n",
            " [0 0 0 0 0 0 0 0]]\n"
          ]
        }
      ]
    },
    {
      "cell_type": "code",
      "source": [
        "#Verilen boyut kadar 1 elemanlı NumPy Arrayi oluşturur.\n",
        "arr1 = np.ones((3,5), dtype = int)\n",
        "arr2 = np.ones(5)\n",
        "print(\"Birinci Array\")\n",
        "print(arr1)\n",
        "print(\"İkinci Array\")\n",
        "print(arr2)"
      ],
      "metadata": {
        "colab": {
          "base_uri": "https://localhost:8080/"
        },
        "id": "esyue7S4wpML",
        "outputId": "3a0cc6d6-19b9-4caa-9dd3-0db3a3055833"
      },
      "execution_count": null,
      "outputs": [
        {
          "output_type": "stream",
          "name": "stdout",
          "text": [
            "Birinci Array\n",
            "[[1 1 1 1 1]\n",
            " [1 1 1 1 1]\n",
            " [1 1 1 1 1]]\n",
            "İkinci Array\n",
            "[1. 1. 1. 1. 1.]\n"
          ]
        }
      ]
    },
    {
      "cell_type": "code",
      "source": [
        "#Verilen boyut kadar \"parametre verilen sayı\" elemanlı NumPy Arrayi oluşturur.\n",
        "np.full((3,5), 3, dtype = int)"
      ],
      "metadata": {
        "colab": {
          "base_uri": "https://localhost:8080/"
        },
        "id": "-Okekb0QyiCr",
        "outputId": "9d0bdbc8-743f-4ce7-97d8-cef5c86bac12"
      },
      "execution_count": null,
      "outputs": [
        {
          "output_type": "execute_result",
          "data": {
            "text/plain": [
              "array([[3, 3, 3, 3, 3],\n",
              "       [3, 3, 3, 3, 3],\n",
              "       [3, 3, 3, 3, 3]])"
            ]
          },
          "metadata": {},
          "execution_count": 40
        }
      ]
    },
    {
      "cell_type": "code",
      "source": [
        "#Verilen aralık ve artış miktarına göre bir NumPy Arrayi oluşturur.\n",
        "np.arange(40 ,0, -3)"
      ],
      "metadata": {
        "colab": {
          "base_uri": "https://localhost:8080/"
        },
        "id": "gAqHqIyzzWKR",
        "outputId": "ff1dba77-2962-496b-aa9a-beafade8eb2e"
      },
      "execution_count": null,
      "outputs": [
        {
          "output_type": "execute_result",
          "data": {
            "text/plain": [
              "array([40, 37, 34, 31, 28, 25, 22, 19, 16, 13, 10,  7,  4,  1])"
            ]
          },
          "metadata": {},
          "execution_count": 41
        }
      ]
    },
    {
      "cell_type": "code",
      "source": [
        "#Başlangıç, bitiş ve dizi boyutunu parametre olarak alır.\n",
        "#np.linspace() metodu başlangıçtan sona num tane sayıyı birbiri arası uzaklık eşit olacak şekilde böler.\n",
        "np.linspace(0,2,10)"
      ],
      "metadata": {
        "colab": {
          "base_uri": "https://localhost:8080/"
        },
        "id": "GjRt1ZQszf0c",
        "outputId": "37c2ff30-e717-4a9d-b301-d1f2e1e94ebe"
      },
      "execution_count": null,
      "outputs": [
        {
          "output_type": "execute_result",
          "data": {
            "text/plain": [
              "array([0.        , 0.22222222, 0.44444444, 0.66666667, 0.88888889,\n",
              "       1.11111111, 1.33333333, 1.55555556, 1.77777778, 2.        ])"
            ]
          },
          "metadata": {},
          "execution_count": 33
        }
      ]
    },
    {
      "cell_type": "code",
      "source": [
        "#normal dağılıma uygun rastgele veriler oluşturup verilen boyutta NumPy Arrayi yapar.\n",
        "np.random.normal(10,4,(3,3))"
      ],
      "metadata": {
        "colab": {
          "base_uri": "https://localhost:8080/"
        },
        "id": "rbFDMzxiz-nk",
        "outputId": "e624c083-5e2c-47c2-d231-6557813d1ada"
      },
      "execution_count": null,
      "outputs": [
        {
          "output_type": "execute_result",
          "data": {
            "text/plain": [
              "array([[14.32203304,  8.68651824, 13.53713972],\n",
              "       [10.86088487,  5.56669364,  5.0403621 ],\n",
              "       [ 7.17677136, 12.8723852 , -2.15239921]])"
            ]
          },
          "metadata": {},
          "execution_count": 43
        }
      ]
    },
    {
      "cell_type": "code",
      "source": [
        "#başlangıç ve bitiş aralığında boyut kadar random integer olarak eleman oluşturur.\n",
        "np.random.randint(1,100,6)"
      ],
      "metadata": {
        "colab": {
          "base_uri": "https://localhost:8080/"
        },
        "id": "pBtYnBRR0EX5",
        "outputId": "e955cc77-0d4a-4f25-8c01-6fea0dea4da9"
      },
      "execution_count": null,
      "outputs": [
        {
          "output_type": "execute_result",
          "data": {
            "text/plain": [
              "array([42, 87, 47,  8,  5, 84])"
            ]
          },
          "metadata": {},
          "execution_count": 44
        }
      ]
    },
    {
      "cell_type": "code",
      "source": [
        "?np.zeros #Yardım istediğimizde  ?....... o fonksiyonun özelliğini detaylı öğreniriz."
      ],
      "metadata": {
        "id": "Q5I7RGD80FXj"
      },
      "execution_count": null,
      "outputs": []
    },
    {
      "cell_type": "markdown",
      "source": [
        "### Numpy Array Özellikleri\n",
        "* **ndim:** _boyut sayısı_\n",
        "* **shape:** _boyut bilgisi_\n",
        "* **size:** _toplam eleman sayısı_\n",
        "* **dtype:** _array veri tipi_"
      ],
      "metadata": {
        "id": "9d-8m8Fn04EP"
      }
    },
    {
      "cell_type": "code",
      "source": [
        "#İki tane random integerlardan oluşan bir array tanımlayalım.\n",
        "arr1 = np.random.randint(20,size = 10)\n",
        "arr2 = np.random.randint(20,size = (9,2))\n",
        "print(arr1)\n",
        "print(arr2)"
      ],
      "metadata": {
        "colab": {
          "base_uri": "https://localhost:8080/"
        },
        "id": "iwidunYr0o1k",
        "outputId": "4bf82198-7488-43f2-e42c-6674d4a528ad"
      },
      "execution_count": null,
      "outputs": [
        {
          "output_type": "stream",
          "name": "stdout",
          "text": [
            "[18 10 11  8 18  5  8  1  8  6]\n",
            "[[ 0 13]\n",
            " [13  5]\n",
            " [ 2 18]\n",
            " [ 1 17]\n",
            " [ 5  5]\n",
            " [19  7]\n",
            " [ 2 14]\n",
            " [ 6 16]\n",
            " [ 1  4]]\n"
          ]
        }
      ]
    },
    {
      "cell_type": "code",
      "source": [
        "print(\"Birinci Arrayin Boyut Sayısı\")\n",
        "print(arr1.ndim)\n",
        "print(\"İkinci Arrayin Boyut Sayısı\")\n",
        "print(arr2.ndim)"
      ],
      "metadata": {
        "colab": {
          "base_uri": "https://localhost:8080/"
        },
        "id": "v_vX6clv1KFi",
        "outputId": "92087043-20d4-4b45-96ef-24f94071c5f6"
      },
      "execution_count": null,
      "outputs": [
        {
          "output_type": "stream",
          "name": "stdout",
          "text": [
            "Birinci Arrayin Boyut Sayısı\n",
            "1\n",
            "İkinci Arrayin Boyut Sayısı\n",
            "2\n"
          ]
        }
      ]
    },
    {
      "cell_type": "code",
      "source": [
        "print(\"Birinci Arrayin Boyut Bilgisi\")\n",
        "print(arr1.shape)\n",
        "print(\"İkinci Arrayin Boyut Bilgisi\")\n",
        "print(arr2.shape)"
      ],
      "metadata": {
        "colab": {
          "base_uri": "https://localhost:8080/"
        },
        "id": "aILYXfLl1a2K",
        "outputId": "c665d018-d5de-4773-da10-c31c5affb9c6"
      },
      "execution_count": null,
      "outputs": [
        {
          "output_type": "stream",
          "name": "stdout",
          "text": [
            "Birinci Arrayin Boyut Bilgisi\n",
            "(10,)\n",
            "İkinci Arrayin Boyut Bilgisi\n",
            "(9, 2)\n"
          ]
        }
      ]
    },
    {
      "cell_type": "code",
      "source": [
        "print(\"Birinci Arrayin Eleman Sayısı\")\n",
        "print(arr1.size)\n",
        "print(\"İkinci Arrayin Eleman Sayısı\")\n",
        "print(arr2.size)"
      ],
      "metadata": {
        "colab": {
          "base_uri": "https://localhost:8080/"
        },
        "id": "jvbqptvW1yGk",
        "outputId": "42d83b07-d509-46a7-d36a-6afd9f0a9a5d"
      },
      "execution_count": null,
      "outputs": [
        {
          "output_type": "stream",
          "name": "stdout",
          "text": [
            "Birinci Arrayin Eleman Sayısı\n",
            "10\n",
            "İkinci Arrayin Eleman Sayısı\n",
            "18\n"
          ]
        }
      ]
    },
    {
      "cell_type": "code",
      "source": [
        "print(\"Birinci Arrayin Veri Tipi\")\n",
        "print(arr1.dtype)\n",
        "print(\"İkinci Arrayin Veri Tipi\")\n",
        "print(arr2.dtype)"
      ],
      "metadata": {
        "colab": {
          "base_uri": "https://localhost:8080/"
        },
        "id": "QLFQdujD168K",
        "outputId": "d4b85772-aca6-4157-b2d6-9af61a97ccc7"
      },
      "execution_count": null,
      "outputs": [
        {
          "output_type": "stream",
          "name": "stdout",
          "text": [
            "Birinci Arrayin Veri Tipi\n",
            "int64\n",
            "İkinci Arrayin Veri Tipi\n",
            "int64\n"
          ]
        }
      ]
    },
    {
      "cell_type": "markdown",
      "source": [
        "### Yeniden Şekillendirme (Reshaping)\n",
        ".reshape(boyut)"
      ],
      "metadata": {
        "id": "G1pmNkdQ2Pfw"
      }
    },
    {
      "cell_type": "code",
      "source": [
        "arr1 = np.arange(1,10) #1'den 10 kadar 9 elemanlı :)\n",
        "arr1"
      ],
      "metadata": {
        "colab": {
          "base_uri": "https://localhost:8080/"
        },
        "id": "f8jwL6yG2HVb",
        "outputId": "feee307a-20d7-42cd-f15f-4e4d20b57177"
      },
      "execution_count": null,
      "outputs": [
        {
          "output_type": "execute_result",
          "data": {
            "text/plain": [
              "array([1, 2, 3, 4, 5, 6, 7, 8, 9])"
            ]
          },
          "metadata": {},
          "execution_count": 53
        }
      ]
    },
    {
      "cell_type": "code",
      "source": [
        "#Biz bu arrayi (3,3) boyutlu bir diziye cevirmek için\n",
        "print(np.arange(1,10).reshape((3,3)))\n",
        "print(arr1.reshape((3,3)))\n",
        "print(arr1) #ÖNEMLİ : Gerçek arrayde bir kaydetme olmadığı için arrayimiz değişmedi"
      ],
      "metadata": {
        "colab": {
          "base_uri": "https://localhost:8080/"
        },
        "id": "wQT-Tt_s2cAr",
        "outputId": "e099a358-a2db-4669-ac27-42a91f6ecc99"
      },
      "execution_count": null,
      "outputs": [
        {
          "output_type": "stream",
          "name": "stdout",
          "text": [
            "[[1 2 3]\n",
            " [4 5 6]\n",
            " [7 8 9]]\n",
            "[[1 2 3]\n",
            " [4 5 6]\n",
            " [7 8 9]]\n",
            "[1 2 3 4 5 6 7 8 9]\n"
          ]
        }
      ]
    },
    {
      "cell_type": "code",
      "source": [
        "arr1 = arr1.reshape((3,3)) \n",
        "print(arr1) #yaptığımız değişikliği kaydettiğimiz için üstüne arrayimiz güncellendi"
      ],
      "metadata": {
        "colab": {
          "base_uri": "https://localhost:8080/"
        },
        "id": "iRZDxXvi21Qq",
        "outputId": "aee7109f-8b7c-42b7-9b86-f178e1c42c5c"
      },
      "execution_count": null,
      "outputs": [
        {
          "output_type": "stream",
          "name": "stdout",
          "text": [
            "[[1 2 3]\n",
            " [4 5 6]\n",
            " [7 8 9]]\n"
          ]
        }
      ]
    },
    {
      "cell_type": "markdown",
      "source": [
        "\n",
        "\n",
        "> Basit bir noktaya değinmek istiyorum çif boyutlu yani **.ndim** çağrıldığında sonucu iki ve üstü olan her şey matris, sonucu 1 olan her şeye vektör denir.\n",
        "\n",
        "\n",
        "> (1,sayi) boyutu vektör gibi görünsede aslına bir matristir unutmayınız :)\n",
        "\n",
        "\n"
      ],
      "metadata": {
        "id": "Rcgjxe1P3ZQJ"
      }
    },
    {
      "cell_type": "markdown",
      "source": [
        " ### Birleştirme (Concantenation)\n",
        " .concatenate( [ arr1, arr2, arr3 ], axis = 0 - 1)\n",
        "\n",
        "\n",
        "*   axis = 0 => satır bazlı birleştirir\n",
        "*   axis = 1 =>  sütun bazlı birleştirir\n",
        "\n"
      ],
      "metadata": {
        "id": "kiaFkr50356V"
      }
    },
    {
      "cell_type": "markdown",
      "source": [
        "#### Tek Boyutta Birleştirme"
      ],
      "metadata": {
        "id": "potgOamz4TkA"
      }
    },
    {
      "cell_type": "code",
      "source": [
        "x = np.array([1,2,3])\n",
        "y = np.array([4,5,6])\n",
        "np.concatenate([x,y])\n",
        "z = np.array([4,5,6])"
      ],
      "metadata": {
        "id": "pK4O-76p3IE7"
      },
      "execution_count": null,
      "outputs": []
    },
    {
      "cell_type": "code",
      "source": [
        "np.concatenate([x,y,z])"
      ],
      "metadata": {
        "colab": {
          "base_uri": "https://localhost:8080/"
        },
        "id": "QcTRULTt4aAj",
        "outputId": "d9447eec-92b4-4702-ed7e-18a008d5dbc0"
      },
      "execution_count": null,
      "outputs": [
        {
          "output_type": "execute_result",
          "data": {
            "text/plain": [
              "array([1, 2, 3, 4, 5, 6, 4, 5, 6])"
            ]
          },
          "metadata": {},
          "execution_count": 61
        }
      ]
    },
    {
      "cell_type": "markdown",
      "source": [
        ""
      ],
      "metadata": {
        "id": "4NSDbsVZ5WTl"
      }
    },
    {
      "cell_type": "markdown",
      "source": [
        "#### Çift Boyutta Birleştirme"
      ],
      "metadata": {
        "id": "v5ZOF7Qe4e0i"
      }
    },
    {
      "cell_type": "code",
      "source": [
        "a = np.array([[1,2,3],\n",
        "              [4,5,6]])"
      ],
      "metadata": {
        "id": "XAxWER-n4cwR"
      },
      "execution_count": null,
      "outputs": []
    },
    {
      "cell_type": "code",
      "source": [
        "np.concatenate([a,a]) #axis belirtilmediğin default değeri alınır\n",
        "                      # default değeri 0'dır. Aşağıya doğru birleştirir.\n",
        "#np.concatenate([a,a], axis = 0) da yazılabilmektedir."
      ],
      "metadata": {
        "colab": {
          "base_uri": "https://localhost:8080/"
        },
        "id": "gK2Czx0g4olY",
        "outputId": "0c459147-d7ac-4cdc-9ea0-3f8f57214874"
      },
      "execution_count": null,
      "outputs": [
        {
          "output_type": "execute_result",
          "data": {
            "text/plain": [
              "array([[1, 2, 3],\n",
              "       [4, 5, 6],\n",
              "       [1, 2, 3],\n",
              "       [4, 5, 6]])"
            ]
          },
          "metadata": {},
          "execution_count": 64
        }
      ]
    },
    {
      "cell_type": "code",
      "source": [
        "np.concatenate([a,a], axis = 1) #Yana doğru birleştirilir."
      ],
      "metadata": {
        "colab": {
          "base_uri": "https://localhost:8080/"
        },
        "id": "q_DviRkU4qba",
        "outputId": "6f72e8cc-9722-4154-f320-3bd85c4f5ad3"
      },
      "execution_count": null,
      "outputs": [
        {
          "output_type": "execute_result",
          "data": {
            "text/plain": [
              "array([[1, 2, 3, 1, 2, 3],\n",
              "       [4, 5, 6, 4, 5, 6]])"
            ]
          },
          "metadata": {},
          "execution_count": 65
        }
      ]
    },
    {
      "cell_type": "markdown",
      "source": [
        "### Array Ayırma (Splitting)\n",
        ".split(array, [ayrılacak dizi indislerinin sayısı] )\n",
        "\n",
        "> ÖNEMLİ : yazılan indis dahil edilmez.\n",
        "#### Tek Boyutta Ayırma\n",
        "\n"
      ],
      "metadata": {
        "id": "ZLT3Iqbh5XaR"
      }
    },
    {
      "cell_type": "code",
      "source": [
        "x = np.array([1,2,3,99,99,3,2,1])"
      ],
      "metadata": {
        "id": "hd03FjyJ5Et4"
      },
      "execution_count": null,
      "outputs": []
    },
    {
      "cell_type": "code",
      "source": [
        "np.split(x, [3,5])"
      ],
      "metadata": {
        "colab": {
          "base_uri": "https://localhost:8080/"
        },
        "id": "Z8en4Q5c6gEo",
        "outputId": "c0faac4a-c137-47f5-b5fb-f674ea518d45"
      },
      "execution_count": null,
      "outputs": [
        {
          "output_type": "execute_result",
          "data": {
            "text/plain": [
              "[array([1, 2, 3]), array([99, 99]), array([3, 2, 1])]"
            ]
          },
          "metadata": {},
          "execution_count": 67
        }
      ]
    },
    {
      "cell_type": "markdown",
      "source": [
        "* .split icindeki sayilar 0 dan 3 e kadar ayırır 3 den 5 e kadar ve 5 den sonuna kadar\n",
        "* Bu arraylaribir değere atayıp kullanabilmek içinse kaç parçaya bölünecekse o kadar değere atamalıyız.\n"
      ],
      "metadata": {
        "id": "Tl0luHsN6TPP"
      }
    },
    {
      "cell_type": "code",
      "source": [
        "x = np.array([1,2,3,99,99,3,2,1,100,5])\n",
        "a,b,c,d = np.split(x, [2,4,6])\n",
        "print(a, b, c, d)\n",
        "d"
      ],
      "metadata": {
        "colab": {
          "base_uri": "https://localhost:8080/"
        },
        "id": "QkIP1OuO6RU6",
        "outputId": "5a5aabc5-ad4f-4b37-902f-7cf42a81bf2f"
      },
      "execution_count": null,
      "outputs": [
        {
          "output_type": "stream",
          "name": "stdout",
          "text": [
            "[1 2] [ 3 99] [99  3] [  2   1 100   5]\n"
          ]
        },
        {
          "output_type": "execute_result",
          "data": {
            "text/plain": [
              "array([  2,   1, 100,   5])"
            ]
          },
          "metadata": {},
          "execution_count": 72
        }
      ]
    },
    {
      "cell_type": "markdown",
      "source": [
        "#### Çok Boyutta Ayırma"
      ],
      "metadata": {
        "id": "jRP82Xsm6wB4"
      }
    },
    {
      "cell_type": "code",
      "source": [
        "arr1 = np.arange(16).reshape(4,4)\n",
        "arr1"
      ],
      "metadata": {
        "colab": {
          "base_uri": "https://localhost:8080/"
        },
        "id": "ahV7_KtG6jg4",
        "outputId": "5629fcd3-f3e3-46ef-899f-fd566e3e2507"
      },
      "execution_count": null,
      "outputs": [
        {
          "output_type": "execute_result",
          "data": {
            "text/plain": [
              "array([[ 0,  1,  2,  3],\n",
              "       [ 4,  5,  6,  7],\n",
              "       [ 8,  9, 10, 11],\n",
              "       [12, 13, 14, 15]])"
            ]
          },
          "metadata": {},
          "execution_count": 74
        }
      ]
    },
    {
      "cell_type": "markdown",
      "source": [
        "\n",
        "> Çok boyutta ayırma işleminin farkı sütun yada satır bazında ayrılabileceği için iki farklı durum söz konusudur. Biz bu sebeple iki fonksiyon kullanırız. Bunlar:\n",
        "\n",
        "\n",
        "*   **.hsplit** => sütun olarak böler ve sonuc yan yana olur yani yatay\n",
        "*   **.vsplit** => satır olarak böler sonuc dikey olur \n",
        "\n",
        "\n",
        "\n",
        "\n",
        "\n"
      ],
      "metadata": {
        "id": "ziOkuK9k65Yc"
      }
    },
    {
      "cell_type": "code",
      "source": [
        "np.vsplit(arr1, [3])"
      ],
      "metadata": {
        "colab": {
          "base_uri": "https://localhost:8080/"
        },
        "id": "Ydno9PG_61mB",
        "outputId": "396496ff-7da3-40dc-a7c9-45eeb70c39a5"
      },
      "execution_count": null,
      "outputs": [
        {
          "output_type": "execute_result",
          "data": {
            "text/plain": [
              "[array([[ 0,  1,  2,  3],\n",
              "        [ 4,  5,  6,  7],\n",
              "        [ 8,  9, 10, 11]]), array([[12, 13, 14, 15]])]"
            ]
          },
          "metadata": {},
          "execution_count": 75
        }
      ]
    },
    {
      "cell_type": "code",
      "source": [
        "#Bunlarıda daha sonra kullanabilmek için bir değerlere atabiliriz. \n",
        "ust, alt = np.vsplit(arr1, [2])\n",
        "print(\"üst arrayimiz\")\n",
        "print(ust)\n",
        "print(\"alt arrayimiz\")\n",
        "print(alt)"
      ],
      "metadata": {
        "colab": {
          "base_uri": "https://localhost:8080/"
        },
        "id": "QlXHn_Ww7qRD",
        "outputId": "5f775d46-bce0-4411-fc79-9c3f3c411bc2"
      },
      "execution_count": null,
      "outputs": [
        {
          "output_type": "stream",
          "name": "stdout",
          "text": [
            "üst arrayimiz\n",
            "[[0 1 2 3]\n",
            " [4 5 6 7]]\n",
            "alt arrayimiz\n",
            "[[ 8  9 10 11]\n",
            " [12 13 14 15]]\n"
          ]
        }
      ]
    },
    {
      "cell_type": "code",
      "source": [
        "np.hsplit(arr1, [2])"
      ],
      "metadata": {
        "colab": {
          "base_uri": "https://localhost:8080/"
        },
        "id": "fvmjSNG174Mw",
        "outputId": "b19e8bbe-7951-4117-9b8c-fd98952ba467"
      },
      "execution_count": null,
      "outputs": [
        {
          "output_type": "execute_result",
          "data": {
            "text/plain": [
              "[array([[ 0,  1],\n",
              "        [ 4,  5],\n",
              "        [ 8,  9],\n",
              "        [12, 13]]), array([[ 2,  3],\n",
              "        [ 6,  7],\n",
              "        [10, 11],\n",
              "        [14, 15]])]"
            ]
          },
          "metadata": {},
          "execution_count": 77
        }
      ]
    },
    {
      "cell_type": "code",
      "source": [
        "sag, sol = np.hsplit(arr1, [3])\n",
        "print(\"sag arrayimiz\")\n",
        "print(sag)\n",
        "print(\"sol arrayimiz\")\n",
        "print(sol)"
      ],
      "metadata": {
        "colab": {
          "base_uri": "https://localhost:8080/"
        },
        "id": "BcGudsY48Gxw",
        "outputId": "afd28f76-3f10-423e-ebcd-3ff85795acc9"
      },
      "execution_count": null,
      "outputs": [
        {
          "output_type": "stream",
          "name": "stdout",
          "text": [
            "sag arrayimiz\n",
            "[[ 0  1  2]\n",
            " [ 4  5  6]\n",
            " [ 8  9 10]\n",
            " [12 13 14]]\n",
            "sol arrayimiz\n",
            "[[ 3]\n",
            " [ 7]\n",
            " [11]\n",
            " [15]]\n"
          ]
        }
      ]
    },
    {
      "cell_type": "markdown",
      "source": [
        "### Sıralama (Sorting)\n",
        ".sort"
      ],
      "metadata": {
        "id": "06pNY4PH8V4m"
      }
    },
    {
      "cell_type": "code",
      "source": [
        "arr1 = np.array([9,5,6,7,1,8,4])"
      ],
      "metadata": {
        "id": "S4mx2_GK8L-_"
      },
      "execution_count": null,
      "outputs": []
    },
    {
      "cell_type": "code",
      "source": [
        "np.sort(arr1) #arrayimiz küçükten büyüğe doğru sıralandı"
      ],
      "metadata": {
        "colab": {
          "base_uri": "https://localhost:8080/"
        },
        "id": "N9AqR-c78dYf",
        "outputId": "6750c474-4133-4d1c-a987-cb5ade88f5b1"
      },
      "execution_count": null,
      "outputs": [
        {
          "output_type": "execute_result",
          "data": {
            "text/plain": [
              "array([1, 4, 5, 6, 7, 8, 9])"
            ]
          },
          "metadata": {},
          "execution_count": 80
        }
      ]
    },
    {
      "cell_type": "code",
      "source": [
        "arr1 #ama gördüğünüz üzere ana arrayde herheangi bir değişiklik mevcut değildir"
      ],
      "metadata": {
        "colab": {
          "base_uri": "https://localhost:8080/"
        },
        "id": "O2iKhoMS8gTo",
        "outputId": "bde77f21-0501-4506-f65e-e567f192a61c"
      },
      "execution_count": null,
      "outputs": [
        {
          "output_type": "execute_result",
          "data": {
            "text/plain": [
              "array([9, 5, 6, 7, 1, 8, 4])"
            ]
          },
          "metadata": {},
          "execution_count": 81
        }
      ]
    },
    {
      "cell_type": "code",
      "source": [
        "arr1.sort() #arrayimiz küçükten büyüğe doğru sıralandı"
      ],
      "metadata": {
        "id": "Ih51GzYG8lmQ"
      },
      "execution_count": null,
      "outputs": []
    },
    {
      "cell_type": "code",
      "source": [
        "arr1 #ana array üzerinde bir değişiklik mevcuttur"
      ],
      "metadata": {
        "colab": {
          "base_uri": "https://localhost:8080/"
        },
        "id": "JXBeY2Au8x0w",
        "outputId": "0aa8a972-e1b3-4da3-9e42-dc967f3c96a8"
      },
      "execution_count": null,
      "outputs": [
        {
          "output_type": "execute_result",
          "data": {
            "text/plain": [
              "array([1, 4, 5, 6, 7, 8, 9])"
            ]
          },
          "metadata": {},
          "execution_count": 83
        }
      ]
    },
    {
      "cell_type": "markdown",
      "source": [
        "* np kutuphanesinden .sort(array) yapınca arrayin kendi hali bozulmaz.\n",
        "* array.sort() yapınca ise arrayin kendsisi siralandi yapisi bozuldu."
      ],
      "metadata": {
        "id": "TMKlOvDQ86EZ"
      }
    },
    {
      "cell_type": "code",
      "source": [
        "arr2 = np.random.normal(20,5, (3,3))\n",
        "arr2"
      ],
      "metadata": {
        "colab": {
          "base_uri": "https://localhost:8080/"
        },
        "id": "KNG-48f38yrA",
        "outputId": "11b3b8a7-b6cd-4ab1-b9aa-2111fe557988"
      },
      "execution_count": null,
      "outputs": [
        {
          "output_type": "execute_result",
          "data": {
            "text/plain": [
              "array([[23.68375481, 15.12312126, 23.32426463],\n",
              "       [ 8.40872614, 17.37938509, 28.66197474],\n",
              "       [17.30347636, 12.93412292, 15.53565436]])"
            ]
          },
          "metadata": {},
          "execution_count": 84
        }
      ]
    },
    {
      "cell_type": "code",
      "source": [
        "np.sort(arr2, axis = 1) #aslında sütun sütun bakılıp satırlar sıralanmış olur."
      ],
      "metadata": {
        "colab": {
          "base_uri": "https://localhost:8080/"
        },
        "id": "FGVRpvCp9EQP",
        "outputId": "2712d446-2b9e-449a-ad54-6f2c0d6fdb2b"
      },
      "execution_count": null,
      "outputs": [
        {
          "output_type": "execute_result",
          "data": {
            "text/plain": [
              "array([[15.12312126, 23.32426463, 23.68375481],\n",
              "       [ 8.40872614, 17.37938509, 28.66197474],\n",
              "       [12.93412292, 15.53565436, 17.30347636]])"
            ]
          },
          "metadata": {},
          "execution_count": 85
        }
      ]
    },
    {
      "cell_type": "code",
      "source": [
        "np.sort(arr2, axis = 0) #aslında satır satır bakılıp sütunlar sıralanmış olur."
      ],
      "metadata": {
        "colab": {
          "base_uri": "https://localhost:8080/"
        },
        "id": "Z0NUWohZ9H04",
        "outputId": "64223e1f-dbf9-4787-b8e0-66c370272046"
      },
      "execution_count": null,
      "outputs": [
        {
          "output_type": "execute_result",
          "data": {
            "text/plain": [
              "array([[ 8.40872614, 12.93412292, 15.53565436],\n",
              "       [17.30347636, 15.12312126, 23.32426463],\n",
              "       [23.68375481, 17.37938509, 28.66197474]])"
            ]
          },
          "metadata": {},
          "execution_count": 86
        }
      ]
    },
    {
      "cell_type": "markdown",
      "source": [
        "### Eleman İşlemleri\n",
        "\n",
        "\n",
        "*   İndeksleme Yöntemi\n",
        "* Slicing Yöntemi \n",
        "*   Fancy Yöntemi\n",
        "\n",
        "\n",
        "####İndeks İle Elemanlara Erişmek"
      ],
      "metadata": {
        "id": "NP6hh3hI93L4"
      }
    },
    {
      "cell_type": "code",
      "source": [
        "a=np.random.randint(10, size=12)\n",
        "a"
      ],
      "metadata": {
        "colab": {
          "base_uri": "https://localhost:8080/"
        },
        "id": "QEky1dZG9LdQ",
        "outputId": "a3a0505f-d42a-47a7-d332-265041d45da9"
      },
      "execution_count": null,
      "outputs": [
        {
          "output_type": "execute_result",
          "data": {
            "text/plain": [
              "array([7, 1, 7, 0, 9, 6, 0, 9, 1, 9, 1, 0])"
            ]
          },
          "metadata": {},
          "execution_count": 95
        }
      ]
    },
    {
      "cell_type": "code",
      "source": [
        "a[0]\n",
        "print(a)\n",
        "print(a[0], a[-2])"
      ],
      "metadata": {
        "colab": {
          "base_uri": "https://localhost:8080/"
        },
        "id": "wcBlRDi4-Jr4",
        "outputId": "ea7d763a-1469-4307-fe9f-b736fb4b92bf"
      },
      "execution_count": null,
      "outputs": [
        {
          "output_type": "stream",
          "name": "stdout",
          "text": [
            "[1 2 6 1 2 2 7 7 0 4 6 4]\n",
            "1 6\n"
          ]
        }
      ]
    },
    {
      "cell_type": "code",
      "source": [
        "a[0]=100\n",
        "a"
      ],
      "metadata": {
        "colab": {
          "base_uri": "https://localhost:8080/"
        },
        "id": "_5dhoLL5-Loo",
        "outputId": "567190cf-0cb0-4cc0-c6c5-fc79a80ebba2"
      },
      "execution_count": null,
      "outputs": [
        {
          "output_type": "execute_result",
          "data": {
            "text/plain": [
              "array([100,   2,   6,   1,   2,   2,   7,   7,   0,   4,   6,   4])"
            ]
          },
          "metadata": {},
          "execution_count": 90
        }
      ]
    },
    {
      "cell_type": "code",
      "source": [
        "m = a.reshape((4,3))\n",
        "m"
      ],
      "metadata": {
        "colab": {
          "base_uri": "https://localhost:8080/"
        },
        "id": "CmLSxAs--RmY",
        "outputId": "bae601aa-42af-4028-ff61-f47f83d93928"
      },
      "execution_count": null,
      "outputs": [
        {
          "output_type": "execute_result",
          "data": {
            "text/plain": [
              "array([[7, 1, 7],\n",
              "       [0, 9, 6],\n",
              "       [0, 9, 1],\n",
              "       [9, 1, 0]])"
            ]
          },
          "metadata": {},
          "execution_count": 96
        }
      ]
    },
    {
      "cell_type": "code",
      "source": [
        "print(m[1,2]) # m[satır_indisi , sütun_indisi]\n",
        "print(m[2,1]) "
      ],
      "metadata": {
        "colab": {
          "base_uri": "https://localhost:8080/"
        },
        "id": "d3L9VTTY-Upl",
        "outputId": "ccc75a7c-591c-40de-f64d-e8eb7c075e77"
      },
      "execution_count": null,
      "outputs": [
        {
          "output_type": "stream",
          "name": "stdout",
          "text": [
            "6\n",
            "9\n"
          ]
        }
      ]
    },
    {
      "cell_type": "markdown",
      "source": [
        "### Array Alt Küme İşlemleri\n",
        "Slicing ile Elemanlara Erişmek \n",
        "\n",
        "Tek Boyutta Slicing"
      ],
      "metadata": {
        "id": "9NjuXbwy-vUI"
      }
    },
    {
      "cell_type": "code",
      "source": [
        "a = np.arange(20,30)\n",
        "a"
      ],
      "metadata": {
        "colab": {
          "base_uri": "https://localhost:8080/"
        },
        "id": "_BDIhNDG-X3X",
        "outputId": "047ab955-783d-4f78-df43-de245cc12d9f"
      },
      "execution_count": null,
      "outputs": [
        {
          "output_type": "execute_result",
          "data": {
            "text/plain": [
              "array([20, 21, 22, 23, 24, 25, 26, 27, 28, 29])"
            ]
          },
          "metadata": {},
          "execution_count": 98
        }
      ]
    },
    {
      "cell_type": "code",
      "source": [
        "a[0:3] #0. indeksten 3. indekse kadar olan elemanlar"
      ],
      "metadata": {
        "colab": {
          "base_uri": "https://localhost:8080/"
        },
        "id": "r-eT3O3u-1kI",
        "outputId": "64aeeb36-bb1f-4b7a-b5a3-7c5e5fed5e2b"
      },
      "execution_count": null,
      "outputs": [
        {
          "output_type": "execute_result",
          "data": {
            "text/plain": [
              "array([20, 21, 22])"
            ]
          },
          "metadata": {},
          "execution_count": 99
        }
      ]
    },
    {
      "cell_type": "code",
      "source": [
        "a[:3] #0 yazılmayadabilir böyle durumda baştan başlar."
      ],
      "metadata": {
        "colab": {
          "base_uri": "https://localhost:8080/"
        },
        "id": "uH52ZogX-3LH",
        "outputId": "5fcae61c-393a-441c-ad71-16876fcc103c"
      },
      "execution_count": null,
      "outputs": [
        {
          "output_type": "execute_result",
          "data": {
            "text/plain": [
              "array([20, 21, 22])"
            ]
          },
          "metadata": {},
          "execution_count": 100
        }
      ]
    },
    {
      "cell_type": "code",
      "source": [
        "a[3:] #belirtilen indeksten başlayıp sonuncu indekse kadar alır"
      ],
      "metadata": {
        "colab": {
          "base_uri": "https://localhost:8080/"
        },
        "id": "zu3lru6r_CrX",
        "outputId": "9ef73f41-b945-4855-a8c7-f317abe29b70"
      },
      "execution_count": null,
      "outputs": [
        {
          "output_type": "execute_result",
          "data": {
            "text/plain": [
              "array([23, 24, 25, 26, 27, 28, 29])"
            ]
          },
          "metadata": {},
          "execution_count": 101
        }
      ]
    },
    {
      "cell_type": "code",
      "source": [
        "a[1::2] #1. indeksten başlayıp sonuncu indekse kadar indeks sayısını ikişer ikişer arttırır."
      ],
      "metadata": {
        "colab": {
          "base_uri": "https://localhost:8080/"
        },
        "id": "C5277CnG_OUP",
        "outputId": "c9a3ecfb-79ab-42c6-da83-265ebda0d7ed"
      },
      "execution_count": null,
      "outputs": [
        {
          "output_type": "execute_result",
          "data": {
            "text/plain": [
              "array([21, 23, 25, 27, 29])"
            ]
          },
          "metadata": {},
          "execution_count": 102
        }
      ]
    },
    {
      "cell_type": "markdown",
      "source": [
        "İki Boyutta Slicing\n",
        "\n",
        "[satır , sütün]"
      ],
      "metadata": {
        "id": "VxO6oxGY_jze"
      }
    },
    {
      "cell_type": "code",
      "source": [
        "m = np.random.randint(10, size=(5,5))\n",
        "m"
      ],
      "metadata": {
        "colab": {
          "base_uri": "https://localhost:8080/"
        },
        "id": "XdVK03MF_Rko",
        "outputId": "6cb9cbf1-8192-4694-a300-18d059676290"
      },
      "execution_count": null,
      "outputs": [
        {
          "output_type": "execute_result",
          "data": {
            "text/plain": [
              "array([[9, 1, 8, 3, 8],\n",
              "       [3, 9, 6, 7, 0],\n",
              "       [1, 4, 7, 9, 2],\n",
              "       [0, 1, 3, 0, 9],\n",
              "       [6, 0, 0, 0, 7]])"
            ]
          },
          "metadata": {},
          "execution_count": 103
        }
      ]
    },
    {
      "cell_type": "code",
      "source": [
        "m[:,0] #satırın tamami 0. indeksli sütun"
      ],
      "metadata": {
        "colab": {
          "base_uri": "https://localhost:8080/"
        },
        "id": "OSjg6urH_pLf",
        "outputId": "e3a48ee8-4fa0-4c30-d64a-6d46fbfe9c0e"
      },
      "execution_count": null,
      "outputs": [
        {
          "output_type": "execute_result",
          "data": {
            "text/plain": [
              "array([9, 3, 1, 0, 6])"
            ]
          },
          "metadata": {},
          "execution_count": 104
        }
      ]
    },
    {
      "cell_type": "code",
      "source": [
        "m[:,3] #satırın tamami 3. indeksli sütun"
      ],
      "metadata": {
        "colab": {
          "base_uri": "https://localhost:8080/"
        },
        "id": "LTRkDeZA_qsA",
        "outputId": "e1ae3f15-32cf-4f9a-ec8f-7a9fa0c56ee4"
      },
      "execution_count": null,
      "outputs": [
        {
          "output_type": "execute_result",
          "data": {
            "text/plain": [
              "array([3, 7, 9, 0, 0])"
            ]
          },
          "metadata": {},
          "execution_count": 105
        }
      ]
    },
    {
      "cell_type": "code",
      "source": [
        "m[0,:] #sütunun tamami 0. indeksli satır"
      ],
      "metadata": {
        "colab": {
          "base_uri": "https://localhost:8080/"
        },
        "id": "vkQcHoLK_9BX",
        "outputId": "bcf5202f-b766-4438-ee3d-d19054656ddb"
      },
      "execution_count": null,
      "outputs": [
        {
          "output_type": "execute_result",
          "data": {
            "text/plain": [
              "array([9, 1, 8, 3, 8])"
            ]
          },
          "metadata": {},
          "execution_count": 108
        }
      ]
    },
    {
      "cell_type": "code",
      "source": [
        "m[0,:2] # 0. indeksli satır ve 0.indeksten 2.indekse kadar olan sütun"
      ],
      "metadata": {
        "colab": {
          "base_uri": "https://localhost:8080/"
        },
        "id": "-aicruK0AI-A",
        "outputId": "d6b4e658-15ac-4a2b-c033-f88f4af864b2"
      },
      "execution_count": null,
      "outputs": [
        {
          "output_type": "execute_result",
          "data": {
            "text/plain": [
              "array([9, 1])"
            ]
          },
          "metadata": {},
          "execution_count": 109
        }
      ]
    },
    {
      "cell_type": "code",
      "source": [
        "m[0:2 , 0:3] #?"
      ],
      "metadata": {
        "colab": {
          "base_uri": "https://localhost:8080/"
        },
        "id": "Op36nJ56ALhQ",
        "outputId": "74e4a2ba-197e-45ea-bffc-12f556954729"
      },
      "execution_count": null,
      "outputs": [
        {
          "output_type": "execute_result",
          "data": {
            "text/plain": [
              "array([[9, 1, 8],\n",
              "       [3, 9, 6]])"
            ]
          },
          "metadata": {},
          "execution_count": 110
        }
      ]
    },
    {
      "cell_type": "code",
      "source": [
        "m[:: , 0:2]  # :: işareti : bu işaretle aynı anlama gelir yani tamamı anlamına"
      ],
      "metadata": {
        "colab": {
          "base_uri": "https://localhost:8080/"
        },
        "id": "YGTIQnCCAkEw",
        "outputId": "4b8ab696-849e-4eff-e3c8-e203f33a4909"
      },
      "execution_count": null,
      "outputs": [
        {
          "output_type": "execute_result",
          "data": {
            "text/plain": [
              "array([[9, 1],\n",
              "       [3, 9],\n",
              "       [1, 4],\n",
              "       [0, 1],\n",
              "       [6, 0]])"
            ]
          },
          "metadata": {},
          "execution_count": 111
        }
      ]
    },
    {
      "cell_type": "code",
      "source": [
        "m[: , :2] "
      ],
      "metadata": {
        "colab": {
          "base_uri": "https://localhost:8080/"
        },
        "id": "nFaHwZKpApGX",
        "outputId": "ce9ef73c-7dbd-4240-df75-f0026e35e847"
      },
      "execution_count": null,
      "outputs": [
        {
          "output_type": "execute_result",
          "data": {
            "text/plain": [
              "array([[9, 1],\n",
              "       [3, 9],\n",
              "       [1, 4],\n",
              "       [0, 1],\n",
              "       [6, 0]])"
            ]
          },
          "metadata": {},
          "execution_count": 112
        }
      ]
    },
    {
      "cell_type": "code",
      "source": [
        "m[1:3 , 0:2]"
      ],
      "metadata": {
        "colab": {
          "base_uri": "https://localhost:8080/"
        },
        "id": "ej_2DjjVAxIm",
        "outputId": "3e4f8623-7701-4e59-dada-23e134fb6886"
      },
      "execution_count": null,
      "outputs": [
        {
          "output_type": "execute_result",
          "data": {
            "text/plain": [
              "array([[3, 9],\n",
              "       [1, 4]])"
            ]
          },
          "metadata": {},
          "execution_count": 113
        }
      ]
    },
    {
      "cell_type": "code",
      "source": [
        "print(m)\n",
        "print(m[:,0])\n",
        "print(m[0:3, 0:2])\n",
        "print(m[:: , 0:2]) #m[: , :2]  aynı anlama gelir\n",
        "print(m[0,:]) #Sadece 0. indeksteki satırı seçer.\n",
        "print(m[:,3]) #Sadece 3. indeksteki sütunu seçer."
      ],
      "metadata": {
        "colab": {
          "base_uri": "https://localhost:8080/"
        },
        "id": "nb4cdvPfAzKc",
        "outputId": "6dd014cc-a9b6-4f9b-c6f8-d582a8c642b7"
      },
      "execution_count": null,
      "outputs": [
        {
          "output_type": "stream",
          "name": "stdout",
          "text": [
            "[[9 1 8 3 8]\n",
            " [3 9 6 7 0]\n",
            " [1 4 7 9 2]\n",
            " [0 1 3 0 9]\n",
            " [6 0 0 0 7]]\n",
            "[9 3 1 0 6]\n",
            "[[9 1]\n",
            " [3 9]\n",
            " [1 4]]\n",
            "[[9 1]\n",
            " [3 9]\n",
            " [1 4]\n",
            " [0 1]\n",
            " [6 0]]\n",
            "[9 1 8 3 8]\n",
            "[3 7 9 0 0]\n"
          ]
        }
      ]
    },
    {
      "cell_type": "markdown",
      "source": [
        "### Alt Küme Üzerinde İslem Yapmak"
      ],
      "metadata": {
        "id": "6Y7sKjHmA8QT"
      }
    },
    {
      "cell_type": "code",
      "source": [
        "a= np.random.randint(10, size=(5,5))\n",
        "a"
      ],
      "metadata": {
        "colab": {
          "base_uri": "https://localhost:8080/"
        },
        "id": "5FXeigbuA5cP",
        "outputId": "5cc04e7e-7f0f-42d0-ae3f-cee8217a2ca9"
      },
      "execution_count": null,
      "outputs": [
        {
          "output_type": "execute_result",
          "data": {
            "text/plain": [
              "array([[6, 4, 5, 4, 2],\n",
              "       [4, 8, 4, 9, 1],\n",
              "       [2, 0, 0, 4, 3],\n",
              "       [8, 7, 8, 6, 3],\n",
              "       [6, 6, 0, 2, 6]])"
            ]
          },
          "metadata": {},
          "execution_count": 120
        }
      ]
    },
    {
      "cell_type": "code",
      "source": [
        "alt_a= a[0:3, 0:2]    #slicing de yani ayirmada [a:b , c:d] de a:b kısmı satir c:d kısmı sutundur.\n",
        "alt_a"
      ],
      "metadata": {
        "colab": {
          "base_uri": "https://localhost:8080/"
        },
        "id": "kvmsqz01BDLH",
        "outputId": "7d9bc2fb-7900-4f34-d513-5dbafc0dac31"
      },
      "execution_count": null,
      "outputs": [
        {
          "output_type": "execute_result",
          "data": {
            "text/plain": [
              "array([[6, 4],\n",
              "       [4, 8],\n",
              "       [2, 0]])"
            ]
          },
          "metadata": {},
          "execution_count": 121
        }
      ]
    },
    {
      "cell_type": "code",
      "source": [
        "alt_a[0,0]=159\n",
        "alt_a[1,1]=8888"
      ],
      "metadata": {
        "id": "t6eAmLj4BYM9"
      },
      "execution_count": null,
      "outputs": []
    },
    {
      "cell_type": "code",
      "source": [
        "print(\"alt kümemiz yeni\")\n",
        "print(alt_a)\n",
        "print(\"ana kümemiz yeni\")\n",
        "print(a)"
      ],
      "metadata": {
        "colab": {
          "base_uri": "https://localhost:8080/"
        },
        "id": "GvXdj3hrBdRd",
        "outputId": "26cea526-e1f9-4bd7-c3aa-623fab544a37"
      },
      "execution_count": null,
      "outputs": [
        {
          "output_type": "stream",
          "name": "stdout",
          "text": [
            "alt kümemiz yeni\n",
            "[[ 159    4]\n",
            " [   4 8888]\n",
            " [   2    0]]\n",
            "ana kümemiz yeni\n",
            "[[ 159    4    5    4    2]\n",
            " [   4 8888    4    9    1]\n",
            " [   2    0    0    4    3]\n",
            " [   8    7    8    6    3]\n",
            " [   6    6    0    2    6]]\n"
          ]
        }
      ]
    },
    {
      "cell_type": "markdown",
      "source": [
        "\n",
        "> Bir numpy arrayini slicing islemi ile ayirip bir degiskene atanirsa ve o ayrilan arrayde bir degisiklik yapilirsa ana array degisir.\n",
        "\n"
      ],
      "metadata": {
        "id": "bqaK0PyFBq4t"
      }
    },
    {
      "cell_type": "code",
      "source": [
        "m= np.random.randint(10, size=(5,5))\n",
        "m"
      ],
      "metadata": {
        "colab": {
          "base_uri": "https://localhost:8080/"
        },
        "id": "YqBFi4rTBevl",
        "outputId": "05bd8313-9b4b-49a7-a18e-56049b1b5c63"
      },
      "execution_count": null,
      "outputs": [
        {
          "output_type": "execute_result",
          "data": {
            "text/plain": [
              "array([[9, 7, 9, 3, 4],\n",
              "       [3, 2, 0, 3, 4],\n",
              "       [1, 6, 6, 6, 7],\n",
              "       [4, 8, 5, 1, 0],\n",
              "       [0, 1, 4, 0, 6]])"
            ]
          },
          "metadata": {},
          "execution_count": 149
        }
      ]
    },
    {
      "cell_type": "markdown",
      "source": [
        "\n",
        "\n",
        "> **.copy()** metodu ile arrayin parçasinin kopyasi alinir ve ana array degismez\n",
        "\n"
      ],
      "metadata": {
        "id": "7LW5nVe7CB7E"
      }
    },
    {
      "cell_type": "code",
      "source": [
        "alt_b= m[0:3 , 0:2].copy()\n",
        "alt_b "
      ],
      "metadata": {
        "colab": {
          "base_uri": "https://localhost:8080/"
        },
        "id": "77K3LowJBfl7",
        "outputId": "42066c72-8ef8-4b5e-e7e9-928a4e2c9cfa"
      },
      "execution_count": null,
      "outputs": [
        {
          "output_type": "execute_result",
          "data": {
            "text/plain": [
              "array([[9, 1],\n",
              "       [3, 9],\n",
              "       [1, 4]])"
            ]
          },
          "metadata": {},
          "execution_count": 124
        }
      ]
    },
    {
      "cell_type": "code",
      "source": [
        "alt_b[0,0]=78954\n",
        "alt_b "
      ],
      "metadata": {
        "colab": {
          "base_uri": "https://localhost:8080/"
        },
        "id": "JXx2OW7WB2G_",
        "outputId": "9fce998c-046d-403c-95f3-f9f95fd21f1c"
      },
      "execution_count": null,
      "outputs": [
        {
          "output_type": "execute_result",
          "data": {
            "text/plain": [
              "array([[78954,     1],\n",
              "       [    3,     9],\n",
              "       [    1,     4]])"
            ]
          },
          "metadata": {},
          "execution_count": 125
        }
      ]
    },
    {
      "cell_type": "code",
      "source": [
        "print(\"alt kümemiz yeni\")\n",
        "print(alt_b)\n",
        "print(\"ana kümemiz yeni\")\n",
        "print(m)"
      ],
      "metadata": {
        "colab": {
          "base_uri": "https://localhost:8080/"
        },
        "id": "Qagb7z0SB0Lv",
        "outputId": "cc96a920-6c2b-4385-a43b-e2b6fc8b707e"
      },
      "execution_count": null,
      "outputs": [
        {
          "output_type": "stream",
          "name": "stdout",
          "text": [
            "alt kümemiz yeni\n",
            "[[78954     1]\n",
            " [    3     9]\n",
            " [    1     4]]\n",
            "ana kümemiz yeni\n",
            "[[9 1 8 3 8]\n",
            " [3 9 6 7 0]\n",
            " [1 4 7 9 2]\n",
            " [0 1 3 0 9]\n",
            " [6 0 0 0 7]]\n"
          ]
        }
      ]
    },
    {
      "cell_type": "markdown",
      "source": [
        "### Fancy Index İle Elemanlara Erişmek\n",
        "\n",
        ">Fancy yöntemi basit index yöntemi gibi olsada bir np arrayinden bir anda bir liste veya np arrayindeki yazan elemanların gösterimine yarar\n",
        "\n",
        "\n",
        "\n",
        "\n"
      ],
      "metadata": {
        "id": "ORQc6H57CFn9"
      }
    },
    {
      "cell_type": "code",
      "source": [
        "v = np.arange(0, 30, 3)\n",
        "v"
      ],
      "metadata": {
        "colab": {
          "base_uri": "https://localhost:8080/"
        },
        "id": "DXbw6zQGB9Ir",
        "outputId": "ec1844d5-66ea-46cf-cdac-ca75149379be"
      },
      "execution_count": null,
      "outputs": [
        {
          "output_type": "execute_result",
          "data": {
            "text/plain": [
              "array([ 0,  3,  6,  9, 12, 15, 18, 21, 24, 27])"
            ]
          },
          "metadata": {},
          "execution_count": 127
        }
      ]
    },
    {
      "cell_type": "code",
      "source": [
        "#biz 1,3 ve 5. indeksleri almak istersek bu arrayden indekleseme yöntemiyle\n",
        "[v[1], v[3], v[5]] #bunu yazmamız gerekir"
      ],
      "metadata": {
        "colab": {
          "base_uri": "https://localhost:8080/"
        },
        "id": "s_eE5GEeClpy",
        "outputId": "6a802f84-a15e-472f-e011-0706e56aba7d"
      },
      "execution_count": null,
      "outputs": [
        {
          "output_type": "execute_result",
          "data": {
            "text/plain": [
              "[3, 9, 15]"
            ]
          },
          "metadata": {},
          "execution_count": 156
        }
      ]
    },
    {
      "cell_type": "code",
      "source": [
        "#Fancy yönteminde ise bir liste oluşturulup indeks gibi yazılınca \n",
        "#liste içindeki yazan değerlerdeki indeksleri getirir. :)\n",
        "al_getir = [1,3,5]\n",
        "v[al_getir]"
      ],
      "metadata": {
        "colab": {
          "base_uri": "https://localhost:8080/"
        },
        "id": "bSNdW1HxCnPH",
        "outputId": "b0ade1bb-cb23-47d8-bd44-9a6ef2262826"
      },
      "execution_count": null,
      "outputs": [
        {
          "output_type": "execute_result",
          "data": {
            "text/plain": [
              "array([ 3,  9, 15])"
            ]
          },
          "metadata": {},
          "execution_count": 128
        }
      ]
    },
    {
      "cell_type": "code",
      "source": [
        "m = np.arange(9).reshape((3,3))\n",
        "m"
      ],
      "metadata": {
        "colab": {
          "base_uri": "https://localhost:8080/"
        },
        "id": "AS-xyu8iDCOP",
        "outputId": "19996d16-b0d6-4f78-aeac-40a348977a36"
      },
      "execution_count": null,
      "outputs": [
        {
          "output_type": "execute_result",
          "data": {
            "text/plain": [
              "array([[0, 1, 2],\n",
              "       [3, 4, 5],\n",
              "       [6, 7, 8]])"
            ]
          },
          "metadata": {},
          "execution_count": 159
        }
      ]
    },
    {
      "cell_type": "code",
      "source": [
        "#Hem numpy arrayi hem normal liste kullanılabilinir \n",
        "satir = np.array([0,1])\n",
        "print(\"satir:\")\n",
        "print(satir)\n",
        "sutun = [1,2]\n",
        "print(\"sütun:\")\n",
        "print(sutun)"
      ],
      "metadata": {
        "colab": {
          "base_uri": "https://localhost:8080/"
        },
        "id": "xRrVcFnsDMpm",
        "outputId": "612b2c84-f27f-49c2-cf15-19210b7eaa07"
      },
      "execution_count": null,
      "outputs": [
        {
          "output_type": "stream",
          "name": "stdout",
          "text": [
            "satir:\n",
            "[0 1]\n",
            "sütun:\n",
            "[1, 2]\n"
          ]
        }
      ]
    },
    {
      "cell_type": "code",
      "source": [
        "m[satir, sutun]"
      ],
      "metadata": {
        "colab": {
          "base_uri": "https://localhost:8080/"
        },
        "id": "66usW_hpDRa3",
        "outputId": "a0c0997c-54a3-43ac-ebb8-ce8aa3215575"
      },
      "execution_count": null,
      "outputs": [
        {
          "output_type": "execute_result",
          "data": {
            "text/plain": [
              "array([1, 6])"
            ]
          },
          "metadata": {},
          "execution_count": 131
        }
      ]
    },
    {
      "cell_type": "code",
      "source": [
        "m[0, [0,1,2]] # 0, [684646] gibi ifadede 0 dan sonrasını göstren : işareti olmadığından basit index "
      ],
      "metadata": {
        "colab": {
          "base_uri": "https://localhost:8080/"
        },
        "id": "RAZLLBsNDUGH",
        "outputId": "b535bdec-a411-4900-bcfa-c240891c26cf"
      },
      "execution_count": null,
      "outputs": [
        {
          "output_type": "execute_result",
          "data": {
            "text/plain": [
              "array([9, 1, 8])"
            ]
          },
          "metadata": {},
          "execution_count": 132
        }
      ]
    },
    {
      "cell_type": "code",
      "source": [
        "m[0: , [0,1,2]]  # 0, [684646] gibi ifadede 0 dan sonrasını göstren : işareti olmadığından slicing işlemi"
      ],
      "metadata": {
        "colab": {
          "base_uri": "https://localhost:8080/"
        },
        "id": "4L0IqIyuD0tW",
        "outputId": "20644659-0943-421b-a8b6-a5d7614a81c8"
      },
      "execution_count": null,
      "outputs": [
        {
          "output_type": "execute_result",
          "data": {
            "text/plain": [
              "array([[9, 1, 8],\n",
              "       [3, 9, 6],\n",
              "       [1, 4, 7],\n",
              "       [0, 1, 3],\n",
              "       [6, 0, 0]])"
            ]
          },
          "metadata": {},
          "execution_count": 133
        }
      ]
    },
    {
      "cell_type": "markdown",
      "source": [
        "##Koşullu Eleman İşlemleri"
      ],
      "metadata": {
        "id": "FySuiHQ3EOiw"
      }
    },
    {
      "cell_type": "code",
      "source": [
        "v= np.array([1, 2, 3, 4, 5])\n",
        "v"
      ],
      "metadata": {
        "colab": {
          "base_uri": "https://localhost:8080/"
        },
        "id": "UvlUS29lD4t1",
        "outputId": "ba3b4539-64e1-40a6-f6c0-4ea9ebf53e3c"
      },
      "execution_count": null,
      "outputs": [
        {
          "output_type": "execute_result",
          "data": {
            "text/plain": [
              "array([1, 2, 3, 4, 5])"
            ]
          },
          "metadata": {},
          "execution_count": 134
        }
      ]
    },
    {
      "cell_type": "code",
      "source": [
        "v>5"
      ],
      "metadata": {
        "colab": {
          "base_uri": "https://localhost:8080/"
        },
        "id": "MJ03IGjgEXVu",
        "outputId": "faeb320b-3eec-46ee-c7fc-91a11d95dc02"
      },
      "execution_count": null,
      "outputs": [
        {
          "output_type": "execute_result",
          "data": {
            "text/plain": [
              "array([False, False, False, False, False])"
            ]
          },
          "metadata": {},
          "execution_count": 135
        }
      ]
    },
    {
      "cell_type": "code",
      "source": [
        "v<3"
      ],
      "metadata": {
        "colab": {
          "base_uri": "https://localhost:8080/"
        },
        "id": "vI50jIDxEZzO",
        "outputId": "725c5beb-c50e-4534-c280-45f2db6e638d"
      },
      "execution_count": null,
      "outputs": [
        {
          "output_type": "execute_result",
          "data": {
            "text/plain": [
              "array([ True,  True, False, False, False])"
            ]
          },
          "metadata": {},
          "execution_count": 136
        }
      ]
    },
    {
      "cell_type": "code",
      "source": [
        "k= np.array([1, 2, 3, 4, 5,7]).reshape([2,3])"
      ],
      "metadata": {
        "id": "BJYGQRLpEa6I"
      },
      "execution_count": null,
      "outputs": []
    },
    {
      "cell_type": "code",
      "source": [
        "k<2"
      ],
      "metadata": {
        "colab": {
          "base_uri": "https://localhost:8080/"
        },
        "id": "bVw-cLRLEct9",
        "outputId": "573dc2ad-ceb2-44ca-8587-fdff5a346645"
      },
      "execution_count": null,
      "outputs": [
        {
          "output_type": "execute_result",
          "data": {
            "text/plain": [
              "array([[ True, False, False],\n",
              "       [False, False, False]])"
            ]
          },
          "metadata": {},
          "execution_count": 138
        }
      ]
    },
    {
      "cell_type": "code",
      "source": [
        "v[v<3] #fancy yontemi ile direk 3 den küçük olan değerleri döndürür"
      ],
      "metadata": {
        "colab": {
          "base_uri": "https://localhost:8080/"
        },
        "id": "F3RVKN7ZEdg3",
        "outputId": "b4d84dfc-0ed8-4a7e-a265-2fc63f3c4e96"
      },
      "execution_count": null,
      "outputs": [
        {
          "output_type": "execute_result",
          "data": {
            "text/plain": [
              "array([1, 2])"
            ]
          },
          "metadata": {},
          "execution_count": 139
        }
      ]
    },
    {
      "cell_type": "code",
      "source": [
        "v[v==3]"
      ],
      "metadata": {
        "colab": {
          "base_uri": "https://localhost:8080/"
        },
        "id": "fsvuAhRjEjTP",
        "outputId": "d2dd4702-a7f6-4f92-ba1c-6dab9d3ec6a0"
      },
      "execution_count": null,
      "outputs": [
        {
          "output_type": "execute_result",
          "data": {
            "text/plain": [
              "array([3])"
            ]
          },
          "metadata": {},
          "execution_count": 140
        }
      ]
    },
    {
      "cell_type": "code",
      "source": [
        "v[v!=3]"
      ],
      "metadata": {
        "colab": {
          "base_uri": "https://localhost:8080/"
        },
        "id": "Bt_vsRjdElFW",
        "outputId": "7aca7229-420e-494e-e633-376204702671"
      },
      "execution_count": null,
      "outputs": [
        {
          "output_type": "execute_result",
          "data": {
            "text/plain": [
              "array([1, 2, 4, 5])"
            ]
          },
          "metadata": {},
          "execution_count": 141
        }
      ]
    },
    {
      "cell_type": "code",
      "source": [
        "v*15"
      ],
      "metadata": {
        "colab": {
          "base_uri": "https://localhost:8080/"
        },
        "id": "7vl4C9w_Em3_",
        "outputId": "fb3bfbef-636d-4bfd-f90c-5b1b83fa8f32"
      },
      "execution_count": null,
      "outputs": [
        {
          "output_type": "execute_result",
          "data": {
            "text/plain": [
              "array([15, 30, 45, 60, 75])"
            ]
          },
          "metadata": {},
          "execution_count": 142
        }
      ]
    },
    {
      "cell_type": "code",
      "source": [
        "v**2"
      ],
      "metadata": {
        "colab": {
          "base_uri": "https://localhost:8080/"
        },
        "id": "gHNZVjBVEpV_",
        "outputId": "8a09df23-e8e0-4ea8-894a-765a262e9279"
      },
      "execution_count": null,
      "outputs": [
        {
          "output_type": "execute_result",
          "data": {
            "text/plain": [
              "array([ 1,  4,  9, 16, 25])"
            ]
          },
          "metadata": {},
          "execution_count": 143
        }
      ]
    },
    {
      "cell_type": "markdown",
      "source": [
        "### Matematiksel işlemler\n",
        "\n",
        "> Az önceki gibi dizi(dört işlem operatörleri)değer şeklindede yapabilsekde bu operatörlere yarayan bazı fonksiyonlar mevcuttur. "
      ],
      "metadata": {
        "id": "XNtu9tq6Ewtz"
      }
    },
    {
      "cell_type": "code",
      "source": [
        "v = np.array([1, 2, 3, 4, 5]) "
      ],
      "metadata": {
        "id": "A_1eXxjuEqff"
      },
      "execution_count": null,
      "outputs": []
    },
    {
      "cell_type": "code",
      "source": [
        "np.subtract(v,1) #- operatoru"
      ],
      "metadata": {
        "colab": {
          "base_uri": "https://localhost:8080/"
        },
        "id": "DlJKOx_SEz_v",
        "outputId": "f20b159d-831c-4ccf-fbc3-b18f70564ad8"
      },
      "execution_count": null,
      "outputs": [
        {
          "output_type": "execute_result",
          "data": {
            "text/plain": [
              "array([0, 1, 2, 3, 4])"
            ]
          },
          "metadata": {},
          "execution_count": 145
        }
      ]
    },
    {
      "cell_type": "code",
      "source": [
        "np.add(v,1) #+operatoru"
      ],
      "metadata": {
        "colab": {
          "base_uri": "https://localhost:8080/"
        },
        "id": "a5PB7kHeE1nP",
        "outputId": "613b6701-fcad-4c1e-d2d8-51152964e166"
      },
      "execution_count": null,
      "outputs": [
        {
          "output_type": "execute_result",
          "data": {
            "text/plain": [
              "array([2, 3, 4, 5, 6])"
            ]
          },
          "metadata": {},
          "execution_count": 146
        }
      ]
    },
    {
      "cell_type": "code",
      "execution_count": null,
      "metadata": {
        "id": "ypfQMJ3Sq6mL",
        "outputId": "76b6500a-082d-48f4-eeb7-9f8ab3647e4e",
        "colab": {
          "base_uri": "https://localhost:8080/"
        }
      },
      "outputs": [
        {
          "output_type": "execute_result",
          "data": {
            "text/plain": [
              "array([ 4,  8, 12, 16, 20])"
            ]
          },
          "metadata": {},
          "execution_count": 147
        }
      ],
      "source": [
        "np.multiply(v,4) #* operatoru"
      ]
    },
    {
      "cell_type": "code",
      "execution_count": null,
      "metadata": {
        "id": "Ubk1rBIlq6mL",
        "outputId": "64be36b4-3007-4735-bbeb-22a804599093"
      },
      "outputs": [
        {
          "data": {
            "text/plain": [
              "array([0.33333333, 0.66666667, 1.        , 1.33333333, 1.66666667])"
            ]
          },
          "execution_count": 12,
          "metadata": {},
          "output_type": "execute_result"
        }
      ],
      "source": [
        "np.divide(v, 3) #/ operatoru"
      ]
    },
    {
      "cell_type": "code",
      "execution_count": null,
      "metadata": {
        "id": "olhwqY6lq6mM",
        "outputId": "10999fcc-10ae-4b04-94e2-a762b8d27c1d"
      },
      "outputs": [
        {
          "data": {
            "text/plain": [
              "array([  1,   8,  27,  64, 125], dtype=int32)"
            ]
          },
          "execution_count": 9,
          "metadata": {},
          "output_type": "execute_result"
        }
      ],
      "source": [
        "np.power(v,3) #** operatoru"
      ]
    },
    {
      "cell_type": "code",
      "execution_count": null,
      "metadata": {
        "id": "5c0hhFacq6mN",
        "outputId": "699ae57c-77fa-4470-c5a8-56116575d82b"
      },
      "outputs": [
        {
          "data": {
            "text/plain": [
              "array([1, 0, 1, 0, 1], dtype=int32)"
            ]
          },
          "execution_count": 18,
          "metadata": {},
          "output_type": "execute_result"
        }
      ],
      "source": [
        "np.mod(v,2)"
      ]
    },
    {
      "cell_type": "code",
      "execution_count": null,
      "metadata": {
        "id": "83YGvPJkq6mN",
        "outputId": "aec79be9-d45b-4d0f-97b5-97b338d87224"
      },
      "outputs": [
        {
          "data": {
            "text/plain": [
              "array([3])"
            ]
          },
          "execution_count": 21,
          "metadata": {},
          "output_type": "execute_result"
        }
      ],
      "source": [
        "np.absolute(np.array([-3])) #mutlak deger fonk"
      ]
    },
    {
      "cell_type": "code",
      "execution_count": null,
      "metadata": {
        "id": "wjWP4N11q6mN",
        "outputId": "c4305e3c-72f9-44c1-b426-f9827375a247"
      },
      "outputs": [
        {
          "data": {
            "text/plain": [
              "0.9589157234143065"
            ]
          },
          "execution_count": 22,
          "metadata": {},
          "output_type": "execute_result"
        }
      ],
      "source": [
        "np.sin(360)"
      ]
    },
    {
      "cell_type": "code",
      "execution_count": null,
      "metadata": {
        "id": "PFC6JV6sq6mO",
        "outputId": "238e4865-c279-4e94-cbcb-d3b99630e9ed"
      },
      "outputs": [
        {
          "data": {
            "text/plain": [
              "-0.5984600690578581"
            ]
          },
          "execution_count": 23,
          "metadata": {},
          "output_type": "execute_result"
        }
      ],
      "source": [
        "np.cos(180)"
      ]
    },
    {
      "cell_type": "code",
      "execution_count": null,
      "metadata": {
        "id": "MMIv1uZQq6mO",
        "outputId": "3aa1c11c-9072-42d9-f9e5-7d82f998b9d2",
        "colab": {
          "base_uri": "https://localhost:8080/"
        }
      },
      "outputs": [
        {
          "output_type": "execute_result",
          "data": {
            "text/plain": [
              "array([0.        , 0.69314718, 1.09861229])"
            ]
          },
          "metadata": {},
          "execution_count": 189
        }
      ],
      "source": [
        "v = np.array([1,2,3])\n",
        "np.log(v) #doğal logaritma e üssü :)"
      ]
    },
    {
      "cell_type": "code",
      "execution_count": null,
      "metadata": {
        "id": "thgXBzQ1q6mO",
        "outputId": "e66224ea-69ad-4b7a-8b32-2d96fecc63e9",
        "colab": {
          "base_uri": "https://localhost:8080/"
        }
      },
      "outputs": [
        {
          "output_type": "execute_result",
          "data": {
            "text/plain": [
              "array([0.       , 1.       , 1.5849625])"
            ]
          },
          "metadata": {},
          "execution_count": 188
        }
      ],
      "source": [
        "np.log2(v)"
      ]
    },
    {
      "cell_type": "code",
      "execution_count": null,
      "metadata": {
        "id": "kF5LIoGrq6mO",
        "outputId": "ddc740c5-8203-4058-9508-a0fcb61903b3"
      },
      "outputs": [
        {
          "data": {
            "text/plain": [
              "array([0.        , 0.30103   , 0.47712125])"
            ]
          },
          "execution_count": 26,
          "metadata": {},
          "output_type": "execute_result"
        }
      ],
      "source": [
        "np.log10(v)"
      ]
    },
    {
      "cell_type": "markdown",
      "metadata": {
        "id": "eYzfwOMIq6mP"
      },
      "source": [
        "* np.mean(arr,axis=0) | Returns mean along specific axis\n",
        "* arr.sum() | Returns sum of arr\n",
        "* arr.min() | Returns minimum value of arr\n",
        "* arr.max(axis=0) | Returns maximum value of specific axis\n",
        "* np.var(arr) | Returns the variance of array\n",
        "* np.std(arr,axis=1) | Returns the standard deviation of specific axis\n",
        "* arr.corrcoef() | Returns correlation coefficient of array"
      ]
    },
    {
      "cell_type": "code",
      "execution_count": null,
      "metadata": {
        "id": "UUC1dDJcq6mP",
        "outputId": "5b0d5f78-8062-46e4-c7a6-7b2d3ea1e395"
      },
      "outputs": [
        {
          "data": {
            "text/plain": [
              "3.0"
            ]
          },
          "execution_count": 17,
          "metadata": {},
          "output_type": "execute_result"
        }
      ],
      "source": [
        "np.mean(v, axis=0) "
      ]
    },
    {
      "cell_type": "code",
      "execution_count": null,
      "metadata": {
        "id": "8BrrBhksq6mP",
        "outputId": "22dd79ea-bdd2-47bd-a8d6-95d497f439a1"
      },
      "outputs": [
        {
          "data": {
            "text/plain": [
              "15"
            ]
          },
          "execution_count": 18,
          "metadata": {},
          "output_type": "execute_result"
        }
      ],
      "source": [
        "v.sum() "
      ]
    },
    {
      "cell_type": "code",
      "execution_count": null,
      "metadata": {
        "id": "d7OhDVhVq6mP",
        "outputId": "7b48dfdf-8594-4180-86e2-d557bbbaefb8"
      },
      "outputs": [
        {
          "data": {
            "text/plain": [
              "1"
            ]
          },
          "execution_count": 19,
          "metadata": {},
          "output_type": "execute_result"
        }
      ],
      "source": [
        "v.min()"
      ]
    },
    {
      "cell_type": "code",
      "execution_count": null,
      "metadata": {
        "id": "v5z8-0Wnq6mQ",
        "outputId": "d4296753-4916-4a6d-8d28-1d9defdef613"
      },
      "outputs": [
        {
          "data": {
            "text/plain": [
              "5"
            ]
          },
          "execution_count": 25,
          "metadata": {},
          "output_type": "execute_result"
        }
      ],
      "source": [
        "v.max(axis=0) "
      ]
    },
    {
      "cell_type": "code",
      "execution_count": null,
      "metadata": {
        "id": "w2SVSrCrq6mQ",
        "outputId": "3a824c6b-ad75-4681-ce77-38c1305e999e"
      },
      "outputs": [
        {
          "data": {
            "text/plain": [
              "2.0"
            ]
          },
          "execution_count": 21,
          "metadata": {},
          "output_type": "execute_result"
        }
      ],
      "source": [
        "np.var(v)"
      ]
    },
    {
      "cell_type": "code",
      "execution_count": null,
      "metadata": {
        "id": "7Nyf3M6wq6mQ",
        "outputId": "c67df08d-6b63-4e5f-9c59-1a9b36cb9923"
      },
      "outputs": [
        {
          "data": {
            "text/plain": [
              "1.4142135623730951"
            ]
          },
          "execution_count": 26,
          "metadata": {},
          "output_type": "execute_result"
        }
      ],
      "source": [
        "np.std(v)"
      ]
    },
    {
      "cell_type": "code",
      "execution_count": null,
      "metadata": {
        "id": "2FHu1C4wq6mQ",
        "outputId": "25f0ba8d-9859-44ca-81e9-4405480b7a86"
      },
      "outputs": [
        {
          "data": {
            "text/plain": [
              "3.0"
            ]
          },
          "execution_count": 27,
          "metadata": {},
          "output_type": "execute_result"
        }
      ],
      "source": [
        "np.median(v)"
      ]
    }
  ]
}